{
 "cells": [
  {
   "cell_type": "code",
   "execution_count": 287,
   "id": "170629c2",
   "metadata": {},
   "outputs": [],
   "source": [
    "import numpy as np\n",
    "import statsmodels.api as sm\n",
    "from ISLP.models import (ModelSpec as MS,summarize)\n",
    "import pandas as pd\n",
    "import matplotlib.pyplot as plt\n",
    "from sklearn.discriminant_analysis import LinearDiscriminantAnalysis as LDA\n",
    "from ISLP import confusion_table\n",
    "from sklearn.naive_bayes import GaussianNB\n",
    "from sklearn.neighbors import KNeighborsClassifier\n",
    "from sklearn.model_selection import train_test_split\n",
    "from sklearn.metrics import accuracy_score"
   ]
  },
  {
   "cell_type": "markdown",
   "id": "a38d4d2f",
   "metadata": {},
   "source": [
    "### Modified Problem 1"
   ]
  },
  {
   "cell_type": "code",
   "execution_count": 282,
   "id": "db5b36e4",
   "metadata": {
    "scrolled": false
   },
   "outputs": [],
   "source": [
    "np.random.seed(1)\n",
    "x_11 = np.random.normal(1, 1, 200)\n",
    "x_21 = np.random.normal(0, 1, 200)\n",
    "x_12 = np.random.normal(-1, 1, 200)\n",
    "x_22 = np.random.normal(0, 1, 200)\n",
    "x_1 = np.concatenate((x_11, x_12))\n",
    "x_2 = np.concatenate((x_21, x_22))\n",
    "xs = np.matrix([x_1, x_2]).T\n",
    "probs = (np.exp(5*xs[:,0]-1*xs[:,1]))/(1+np.exp(5*xs[:,0]-1*xs[:,1]))\n",
    "y = []\n",
    "for i in range(len(probs)):\n",
    "    val = np.random.binomial(1, p=probs[i,0])\n",
    "    y.append(val)\n",
    "y = np.matrix(y).T\n",
    "xs = np.append(xs, y, 1)"
   ]
  },
  {
   "cell_type": "markdown",
   "id": "b645f2dd",
   "metadata": {},
   "source": [
    "#### (a)"
   ]
  },
  {
   "cell_type": "code",
   "execution_count": 283,
   "id": "860e912d",
   "metadata": {},
   "outputs": [
    {
     "name": "stdout",
     "output_type": "stream",
     "text": [
      "[[ 4.97700994]\n",
      " [-0.98286889]]\n"
     ]
    }
   ],
   "source": [
    "x = xs[:,:-1]\n",
    "y = xs[:,-1]\n",
    "beta_old = np.matrix([[0], [0]])\n",
    "beta_new = np.matrix([[1], [1]])\n",
    "lr = 0.1\n",
    "count = 0\n",
    "while np.sum(abs(beta_new - beta_old)) > 0.0001:\n",
    "    if count != 0:\n",
    "        beta_old = beta_new\n",
    "    preds = (np.exp(np.dot(x, beta_old)))/(1+np.exp(np.dot(x, beta_old)))\n",
    "    beta_new = beta_old + lr*(np.dot(x.T, y) - np.dot(x.T, preds))\n",
    "    count += 1\n",
    "print(beta_new)"
   ]
  },
  {
   "cell_type": "code",
   "execution_count": 284,
   "id": "84710823",
   "metadata": {},
   "outputs": [
    {
     "data": {
      "text/html": [
       "<div>\n",
       "<style scoped>\n",
       "    .dataframe tbody tr th:only-of-type {\n",
       "        vertical-align: middle;\n",
       "    }\n",
       "\n",
       "    .dataframe tbody tr th {\n",
       "        vertical-align: top;\n",
       "    }\n",
       "\n",
       "    .dataframe thead th {\n",
       "        text-align: right;\n",
       "    }\n",
       "</style>\n",
       "<table border=\"1\" class=\"dataframe\">\n",
       "  <thead>\n",
       "    <tr style=\"text-align: right;\">\n",
       "      <th></th>\n",
       "      <th>coef</th>\n",
       "      <th>std err</th>\n",
       "      <th>z</th>\n",
       "      <th>P&gt;|z|</th>\n",
       "    </tr>\n",
       "  </thead>\n",
       "  <tbody>\n",
       "    <tr>\n",
       "      <th>x1</th>\n",
       "      <td>4.9768</td>\n",
       "      <td>0.626</td>\n",
       "      <td>7.946</td>\n",
       "      <td>0.0</td>\n",
       "    </tr>\n",
       "    <tr>\n",
       "      <th>x2</th>\n",
       "      <td>-0.9828</td>\n",
       "      <td>0.251</td>\n",
       "      <td>-3.918</td>\n",
       "      <td>0.0</td>\n",
       "    </tr>\n",
       "  </tbody>\n",
       "</table>\n",
       "</div>"
      ],
      "text/plain": [
       "      coef  std err      z  P>|z|\n",
       "x1  4.9768    0.626  7.946    0.0\n",
       "x2 -0.9828    0.251 -3.918    0.0"
      ]
     },
     "execution_count": 284,
     "metadata": {},
     "output_type": "execute_result"
    }
   ],
   "source": [
    "glm = sm.GLM(y, x, family=sm.families.Binomial()) \n",
    "results = glm.fit()\n",
    "summarize(results)"
   ]
  },
  {
   "cell_type": "markdown",
   "id": "e97923c5",
   "metadata": {},
   "source": [
    "#### (b)"
   ]
  },
  {
   "cell_type": "code",
   "execution_count": 285,
   "id": "131684df",
   "metadata": {},
   "outputs": [
    {
     "data": {
      "image/png": "[encoded data removed]",
      "text/plain": [
       "<Figure size 432x288 with 1 Axes>"
      ]
     },
     "metadata": {
      "needs_background": "light"
     },
     "output_type": "display_data"
    },
    {
     "name": "stdout",
     "output_type": "stream",
     "text": [
      "0.08994708994708994\n",
      "0.03317535545023697\n"
     ]
    }
   ],
   "source": [
    "y_true = xs[:,-1]\n",
    "y_prob = (np.exp(np.dot(x, beta_new)))/(1+np.exp(np.dot(x, beta_new)))\n",
    "roc = pd.DataFrame()\n",
    "intv = np.arange(0, 1.001, 0.001)\n",
    "roc['threshold'] = []\n",
    "roc['FPR'] = []\n",
    "roc['TPR'] = []\n",
    "for thresh in intv:\n",
    "    tp = 0\n",
    "    fn = 0\n",
    "    fp = 0\n",
    "    tn = 0\n",
    "    y_pred = []\n",
    "    for i in range(len(y_prob)):\n",
    "        if y_prob[i,0] >= thresh:\n",
    "            y_pred.append(1)\n",
    "        else:\n",
    "            y_pred.append(0)\n",
    "    y_pred = np.matrix(y_pred).T\n",
    "    for j in range(len(y_true)):\n",
    "        if y_true[j,0] == 1:\n",
    "            if y_pred[j,0] == 1:\n",
    "                tp += 1\n",
    "            else:\n",
    "                fn += 1\n",
    "        if y_true[j,0] == 0:\n",
    "            if y_pred[j,0] == 0:\n",
    "                tn += 1\n",
    "            else:\n",
    "                fp += 1\n",
    "    fpr = fp/(fp+tn)\n",
    "    tpr = tp/(tp+fn)\n",
    "    roc.loc[len(roc.index)] = [thresh, fpr, tpr]\n",
    "plt.plot(roc['FPR'], roc['TPR'], 'bo')\n",
    "plt.xlabel('False Positive Rate')\n",
    "plt.ylabel('True Positive Rate')\n",
    "plt.title('ROC Curve')\n",
    "plt.show()\n",
    "tp = 0\n",
    "fn = 0\n",
    "fp = 0\n",
    "tn = 0\n",
    "y_pred = []\n",
    "for i in range(len(y_prob)):\n",
    "    if y_prob[i,0] >= 0.5:\n",
    "        y_pred.append(1)\n",
    "    else:\n",
    "        y_pred.append(0)\n",
    "y_pred = np.matrix(y_pred).T\n",
    "for j in range(len(y_true)):\n",
    "    if y_true[j,0] == 1:\n",
    "        if y_pred[j,0] == 1:\n",
    "            tp += 1\n",
    "        else:\n",
    "            fn += 1\n",
    "    if y_true[j,0] == 0:\n",
    "        if y_pred[j,0] == 0:\n",
    "            tn += 1\n",
    "        else:\n",
    "            fp += 1\n",
    "fpr = fp/(fp+tn)\n",
    "fnr = fn/(fn+tp)\n",
    "print(fpr)\n",
    "print(fnr)"
   ]
  },
  {
   "cell_type": "markdown",
   "id": "5cb2acf0",
   "metadata": {},
   "source": [
    "### Problem 2"
   ]
  },
  {
   "cell_type": "code",
   "execution_count": 270,
   "id": "8d2519ce",
   "metadata": {},
   "outputs": [
    {
     "name": "stdout",
     "output_type": "stream",
     "text": [
      "0.10582010582010581\n",
      "0.023696682464454975\n"
     ]
    },
    {
     "data": {
      "image/png": "[encoded data removed]",
      "text/plain": [
       "<Figure size 432x288 with 1 Axes>"
      ]
     },
     "metadata": {
      "needs_background": "light"
     },
     "output_type": "display_data"
    }
   ],
   "source": [
    "count = 0\n",
    "for i in range(len(y_true)):\n",
    "    if y_true[i,0] == 0:\n",
    "        count += 1\n",
    "pi_0 = count/len(y_true)\n",
    "pi_1 = (len(y_true)-count)/len(y_true)\n",
    "ind = np.squeeze(np.asarray(xs[:,-1])) == 0\n",
    "zero = xs[ind,:]\n",
    "ind = np.squeeze(np.asarray(xs[:,-1])) == 1\n",
    "one = xs[ind,:]\n",
    "mu_0 = np.matrix([[np.mean(zero[:,0])], [np.mean(zero[:,1])]])\n",
    "mu_1 = np.matrix([[np.mean(one[:,0])], [np.mean(one[:,1])]])\n",
    "x1 = np.asarray(xs[:,0]).T\n",
    "x2 = np.asarray(xs[:,1]).T\n",
    "covm = np.cov(x1, x2)\n",
    "d_0 = np.matmul(np.matmul(x, np.linalg.inv(covm)), mu_0) - (1/2)*np.matmul((np.matmul(mu_0.transpose(), np.linalg.inv(covm))), mu_0) + np.log(pi_0)\n",
    "d_1 = np.matmul(np.matmul(x, np.linalg.inv(covm)), mu_1) - (1/2)*np.matmul((np.matmul(mu_1.transpose(), np.linalg.inv(covm))), mu_1) + np.log(pi_1)\n",
    "y_true = xs[:,-1]\n",
    "y_preds = []\n",
    "for i in range(len(d_0)):\n",
    "    if d_0[i,0] > d_1[i,0]:\n",
    "        y_preds.append(0)\n",
    "    else:\n",
    "        y_preds.append(1)\n",
    "fp = 0\n",
    "tn = 0\n",
    "fn = 0\n",
    "tp = 0\n",
    "for j in range(len(y_true)):\n",
    "    if y_true[j,0] == 0:\n",
    "        if y_preds[j] == 0:\n",
    "            tn += 1\n",
    "        else:\n",
    "            fp += 1\n",
    "    if y_true[j,0] == 1:\n",
    "            if y_preds[j] == 1:\n",
    "                tp += 1\n",
    "            else:\n",
    "                fn += 1\n",
    "fpr = fp/(fp+tn)\n",
    "fnr = fn/(fn+tp)\n",
    "print(fpr)\n",
    "print(fnr)\n",
    "data = pd.DataFrame(xs)\n",
    "d_slope = np.matmul(np.linalg.inv(covm), (mu_0-mu_1))\n",
    "dims = np.array([min(data[0]), max(data[0])])\n",
    "bounds = np.array((d_slope[0]/d_slope[1])*dims).T\n",
    "plt.plot(dims, bounds, 'k', lw = 0.75)\n",
    "plt.fill_between(dims, bounds[:,0], min(data[1]), color='tab:blue', alpha=0.1)\n",
    "plt.fill_between(dims, bounds[:,0], max(data[1]), color='tab:orange', alpha=0.1)\n",
    "plt.ylim(min(data[1]), max(data[1]))\n",
    "plt.scatter(data[data[2]==0][0], data[data[2]==0][1], s=4, alpha=0.8)\n",
    "plt.scatter(data[data[2]==1][0], data[data[2]==1][1], s=4, alpha=0.8)\n",
    "plt.xlabel('X1')\n",
    "plt.ylabel('X2')\n",
    "plt.show()"
   ]
  },
  {
   "cell_type": "markdown",
   "id": "54a3ab66",
   "metadata": {},
   "source": [
    "### Problem 3"
   ]
  },
  {
   "cell_type": "code",
   "execution_count": 299,
   "id": "1bf33baf",
   "metadata": {},
   "outputs": [],
   "source": [
    "np.random.seed(1)\n",
    "diabetes = pd.read_csv('/Users/zach/Jupyter/DATA 558/diabetes.csv')\n",
    "x = diabetes[['Pregnancies', 'Glucose', 'BloodPressure', 'SkinThickness', 'Insulin',\n",
    "       'BMI', 'DiabetesPedigreeFunction', 'Age']]\n",
    "y = diabetes[['Outcome']]\n",
    "x_train, x_test, y_train, y_test = train_test_split(x, y, test_size=1/6)"
   ]
  },
  {
   "cell_type": "markdown",
   "id": "30229c16",
   "metadata": {},
   "source": [
    "#### Logistic Regression"
   ]
  },
  {
   "cell_type": "code",
   "execution_count": 300,
   "id": "f4563449",
   "metadata": {},
   "outputs": [
    {
     "name": "stdout",
     "output_type": "stream",
     "text": [
      "                            coef  std err      z  P>|z|\n",
      "Pregnancies               0.1226    0.031  3.918  0.000\n",
      "Glucose                   0.0147    0.003  4.825  0.000\n",
      "BloodPressure            -0.0308    0.005 -6.141  0.000\n",
      "SkinThickness            -0.0020    0.007 -0.303  0.762\n",
      "Insulin                   0.0011    0.001  1.227  0.220\n",
      "BMI                      -0.0069    0.012 -0.579  0.563\n",
      "DiabetesPedigreeFunction  0.2413    0.271  0.889  0.374\n",
      "Age                      -0.0176    0.009 -1.905  0.057\n"
     ]
    },
    {
     "data": {
      "text/plain": [
       "0.6640625"
      ]
     },
     "execution_count": 300,
     "metadata": {},
     "output_type": "execute_result"
    }
   ],
   "source": [
    "glm = sm.GLM(y_train, x_train, family=sm.families.Binomial()) \n",
    "results = glm.fit()\n",
    "print(summarize(results))\n",
    "probs = results.predict(exog=x_test)\n",
    "labels = np.array([0]*128) \n",
    "labels[probs>0.5] = 1\n",
    "accuracy_score(y_test.values.ravel(), labels)"
   ]
  },
  {
   "cell_type": "code",
   "execution_count": 311,
   "id": "58152bbe",
   "metadata": {},
   "outputs": [
    {
     "data": {
      "text/plain": [
       "0.671875"
      ]
     },
     "execution_count": 311,
     "metadata": {},
     "output_type": "execute_result"
    }
   ],
   "source": [
    "x_train_s = x_train[['Pregnancies', 'Glucose', 'BloodPressure', 'Age']]\n",
    "x_test_s = x_test[['Pregnancies', 'Glucose', 'BloodPressure', 'Age']]\n",
    "glm = sm.GLM(y_train, x_train_s, family=sm.families.Binomial()) \n",
    "results = glm.fit()\n",
    "probs = results.predict(exog=x_test_s)\n",
    "labels = np.array([0]*128) \n",
    "labels[probs>0.5] = 1\n",
    "accuracy_score(y_test.values.ravel(), labels)"
   ]
  },
  {
   "cell_type": "markdown",
   "id": "ec917fc9",
   "metadata": {},
   "source": [
    "#### LDA"
   ]
  },
  {
   "cell_type": "code",
   "execution_count": 302,
   "id": "a0fd806b",
   "metadata": {},
   "outputs": [
    {
     "data": {
      "text/plain": [
       "0.78125"
      ]
     },
     "execution_count": 302,
     "metadata": {},
     "output_type": "execute_result"
    }
   ],
   "source": [
    "lda = LDA(store_covariance=True)\n",
    "lda.fit(x_train, y_train.values.ravel())\n",
    "lda_pred = lda.predict(x_test)\n",
    "accuracy_score(lda_pred, y_test.values.ravel())"
   ]
  },
  {
   "cell_type": "code",
   "execution_count": 303,
   "id": "a06ddecd",
   "metadata": {},
   "outputs": [
    {
     "data": {
      "text/plain": [
       "0.7421875"
      ]
     },
     "execution_count": 303,
     "metadata": {},
     "output_type": "execute_result"
    }
   ],
   "source": [
    "lda = LDA(store_covariance=True)\n",
    "lda.fit(x_train_s, y_train.values.ravel())\n",
    "lda_pred = lda.predict(x_test_s)\n",
    "accuracy_score(lda_pred, y_test.values.ravel())"
   ]
  },
  {
   "cell_type": "markdown",
   "id": "c0484a55",
   "metadata": {},
   "source": [
    "#### Naive Bayes"
   ]
  },
  {
   "cell_type": "code",
   "execution_count": 304,
   "id": "d7f18a64",
   "metadata": {},
   "outputs": [
    {
     "data": {
      "text/plain": [
       "0.7578125"
      ]
     },
     "execution_count": 304,
     "metadata": {},
     "output_type": "execute_result"
    }
   ],
   "source": [
    "naive = GaussianNB()\n",
    "y_preds = naive.fit(x_train, y_train.values.ravel()).predict(x_test)\n",
    "accuracy_score(y_preds, y_test.values.ravel())"
   ]
  },
  {
   "cell_type": "code",
   "execution_count": 305,
   "id": "0b00b0de",
   "metadata": {},
   "outputs": [
    {
     "data": {
      "text/plain": [
       "0.7421875"
      ]
     },
     "execution_count": 305,
     "metadata": {},
     "output_type": "execute_result"
    }
   ],
   "source": [
    "naive = GaussianNB()\n",
    "y_preds = naive.fit(x_train_s, y_train.values.ravel()).predict(x_test_s)\n",
    "accuracy_score(y_preds, y_test.values.ravel())"
   ]
  },
  {
   "cell_type": "markdown",
   "id": "4d2b8216",
   "metadata": {},
   "source": [
    "#### KNN"
   ]
  },
  {
   "cell_type": "code",
   "execution_count": 297,
   "id": "88caf2cc",
   "metadata": {},
   "outputs": [
    {
     "data": {
      "text/plain": [
       "0.71875"
      ]
     },
     "execution_count": 297,
     "metadata": {},
     "output_type": "execute_result"
    }
   ],
   "source": [
    "nbor = KNeighborsClassifier(n_neighbors=5)\n",
    "nborfit = nbor.fit(x_train, y_train.values.ravel())\n",
    "y_preds = nborfit.predict(x_test)\n",
    "accuracy_score(y_preds, y_test.values.ravel())"
   ]
  },
  {
   "cell_type": "code",
   "execution_count": 309,
   "id": "cadab6e5",
   "metadata": {},
   "outputs": [
    {
     "data": {
      "text/plain": [
       "0.7421875"
      ]
     },
     "execution_count": 309,
     "metadata": {},
     "output_type": "execute_result"
    }
   ],
   "source": [
    "nbor = KNeighborsClassifier(n_neighbors=5)\n",
    "nborfit = nbor.fit(x_train_s, y_train.values.ravel())\n",
    "y_preds = nborfit.predict(x_test_s)\n",
    "accuracy_score(y_preds, y_test.values.ravel())"
   ]
  }
 ],
 "metadata": {
  "kernelspec": {
   "display_name": "Python 3 (ipykernel)",
   "language": "python",
   "name": "python3"
  },
  "language_info": {
   "codemirror_mode": {
    "name": "ipython",
    "version": 3
   },
   "file_extension": ".py",
   "mimetype": "text/x-python",
   "name": "python",
   "nbconvert_exporter": "python",
   "pygments_lexer": "ipython3",
   "version": "3.9.12"
  }
 },
 "nbformat": 4,
 "nbformat_minor": 5
}
